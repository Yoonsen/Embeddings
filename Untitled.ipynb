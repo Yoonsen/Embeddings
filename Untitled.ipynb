{
 "cells": [
  {
   "cell_type": "markdown",
   "id": "d1a3fa38-917a-4aee-a56c-577c8ad73672",
   "metadata": {},
   "source": [
    "http://sprakbankdb2.lx.nb.no:7007/text?identifier=https://urn.nb.no/URN:NBN:no-nb_digibok_2014081508305"
   ]
  }
 ],
 "metadata": {
  "kernelspec": {
   "display_name": "Python 3 (ipykernel)",
   "language": "python",
   "name": "python3"
  },
  "language_info": {
   "codemirror_mode": {
    "name": "ipython",
    "version": 3
   },
   "file_extension": ".py",
   "mimetype": "text/x-python",
   "name": "python",
   "nbconvert_exporter": "python",
   "pygments_lexer": "ipython3",
   "version": "3.11.5"
  }
 },
 "nbformat": 4,
 "nbformat_minor": 5
}
