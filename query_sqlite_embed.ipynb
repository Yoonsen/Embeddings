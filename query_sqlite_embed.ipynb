{
 "cells": [
  {
   "cell_type": "markdown",
   "id": "d0ea3166-6cf2-4d05-b688-42a3dfbd9f96",
   "metadata": {},
   "source": [
    "# Convert embeddings to sqlite"
   ]
  },
  {
   "cell_type": "code",
   "execution_count": 4,
   "id": "8bc2dc58-72ed-445b-b64f-f0dd0133ed25",
   "metadata": {},
   "outputs": [],
   "source": [
    "from IPython.display import Markdown\n",
    "import pandas as pd\n",
    "import os\n",
    "import sqlite3"
   ]
  },
  {
   "cell_type": "code",
   "execution_count": 5,
   "id": "edc1fce0-51ec-4fe6-879a-11fef3e5c4b2",
   "metadata": {
    "tags": []
   },
   "outputs": [],
   "source": [
    "import sqlite_vss"
   ]
  },
  {
   "cell_type": "code",
   "execution_count": 7,
   "id": "5c7d0173-735e-4ff6-a50f-334f414319f2",
   "metadata": {
    "tags": []
   },
   "outputs": [],
   "source": [
    "import numpy"
   ]
  },
  {
   "cell_type": "code",
   "execution_count": 45,
   "id": "dc857534-326c-4cef-9e9d-7ae56934e7f2",
   "metadata": {
    "tags": []
   },
   "outputs": [],
   "source": [
    "db = \"vss_1800_1850.db\""
   ]
  },
  {
   "cell_type": "code",
   "execution_count": 46,
   "id": "9f6ae11c-0469-4771-aac7-f6e62fb69159",
   "metadata": {
    "tags": []
   },
   "outputs": [],
   "source": [
    "gcon = sqlite3.connect(db)\n",
    "gcon.enable_load_extension(True)\n",
    "sqlite_vss.load(gcon)"
   ]
  },
  {
   "cell_type": "code",
   "execution_count": 9,
   "id": "fd6438a0-a6f6-4416-befa-7a8679e095f6",
   "metadata": {
    "tags": []
   },
   "outputs": [],
   "source": [
    "def similar(con, word, limit = 20):\n",
    "    try:\n",
    "        res = con.execute(\"\"\"\n",
    "        select b.word, a.distance from \n",
    "            (\n",
    "            select rowid, distance from word_vectors\n",
    "            where \n",
    "                vss_search(\n",
    "                    vector, \n",
    "                    (select vector from word_vectors where rowid = (select rowid from words where word = ?)))\n",
    "                limit ?\n",
    "            ) as a, \n",
    "            words as b \n",
    "            where \n",
    "                a.rowid = b.rowid\"\"\", (word, limit)).fetchall()\n",
    "    except:\n",
    "        res = []\n",
    "    return res"
   ]
  },
  {
   "cell_type": "code",
   "execution_count": 48,
   "id": "b11738a9-e0a4-4caa-88f8-799fe9fbdd60",
   "metadata": {
    "tags": []
   },
   "outputs": [
    {
     "name": "stdout",
     "output_type": "stream",
     "text": [
      "CPU times: user 189 ms, sys: 10.6 ms, total: 200 ms\n",
      "Wall time: 80.5 ms\n"
     ]
    },
    {
     "data": {
      "text/plain": [
       "[('Kærlighed', 0.0),\n",
       " ('Rraft', 11.129509925842285),\n",
       " ('Menneskekjerlighed', 12.198987007141113),\n",
       " ('Begier', 12.490368843078613),\n",
       " ('Sjælefred', 12.698558807373047),\n",
       " ('Mo-', 12.83400821685791),\n",
       " ('Fry', 13.169246673583984),\n",
       " ('Fantasie', 13.253016471862793),\n",
       " ('Dvd', 13.551689147949219),\n",
       " ('Fortjenefte', 13.563358306884766),\n",
       " ('Forgudelse', 13.66080093383789),\n",
       " ('Sagnkredsen', 13.795816421508789),\n",
       " ('Bredgangsgruben', 13.810941696166992),\n",
       " ('Pellerin', 13.868877410888672),\n",
       " ('korntrange', 13.953315734863281),\n",
       " ('Almagts-Strømme', 13.980159759521484),\n",
       " ('Clarkes', 14.024714469909668),\n",
       " ('traetere', 14.041214942932129),\n",
       " ('globator', 14.047579765319824),\n",
       " ('Componisters', 14.058244705200195)]"
      ]
     },
     "execution_count": 48,
     "metadata": {},
     "output_type": "execute_result"
    }
   ],
   "source": [
    "%%time\n",
    "similar(gcon, \"Kærlighed\")"
   ]
  },
  {
   "cell_type": "code",
   "execution_count": 52,
   "id": "04fb4317-2d8d-4d9a-9c98-9854ad331153",
   "metadata": {
    "tags": []
   },
   "outputs": [
    {
     "name": "stdout",
     "output_type": "stream",
     "text": [
      "CPU times: user 372 ms, sys: 24.9 ms, total: 397 ms\n",
      "Wall time: 93 ms\n"
     ]
    },
    {
     "data": {
      "text/plain": [
       "[('Kyst', 0.0),\n",
       " ('Kyster', 191.18887329101562),\n",
       " ('Halvøe', 243.62521362304688),\n",
       " ('Øe', 250.69581604003906),\n",
       " ('Halvø', 255.63136291503906),\n",
       " ('Strand', 258.13018798828125),\n",
       " ('Slette', 263.4268493652344),\n",
       " ('Fastland', 280.1697998046875),\n",
       " ('Kysten', 283.66180419921875),\n",
       " ('Havbugt', 293.38824462890625),\n",
       " ('Sletter', 297.9294738769531),\n",
       " ('Bred', 299.10162353515625),\n",
       " ('Grændse', 299.2603759765625),\n",
       " ('Strande', 315.3164978027344),\n",
       " ('Skraaning', 318.4010009765625),\n",
       " ('Bredder', 327.7388000488281),\n",
       " ('Odde', 332.53369140625),\n",
       " ('Kysterne', 335.16632080078125),\n",
       " ('Seilads', 336.27069091796875),\n",
       " ('Landevei', 336.3242492675781),\n",
       " ('Sø', 342.6007995605469),\n",
       " ('Bierge', 344.7713928222656),\n",
       " ('Kant', 346.31207275390625),\n",
       " ('Fastlandet', 346.9302978515625),\n",
       " ('Ocean', 350.95343017578125),\n",
       " ('Halvøen', 356.00665283203125),\n",
       " ('Vestkysten', 357.5718994140625),\n",
       " ('Horizont', 360.27972412109375),\n",
       " ('Fjelde', 365.6391296386719),\n",
       " ('Bugt', 365.8097839355469),\n",
       " ('Bølge', 366.4714660644531),\n",
       " ('Østersøen', 367.037353515625),\n",
       " ('Øen', 370.2374267578125),\n",
       " ('Rhed', 370.3369140625),\n",
       " ('Sømagt', 371.0516052246094),\n",
       " ('Fjord', 371.52703857421875),\n",
       " ('Munding', 372.8662109375),\n",
       " ('Kanal', 373.0198669433594),\n",
       " ('Øerne', 375.82220458984375),\n",
       " ('Kjølen', 378.1136779785156),\n",
       " ('Mjøsen', 378.6933898925781),\n",
       " ('Tinde', 379.47509765625),\n",
       " ('Oceanet', 379.9440612792969),\n",
       " ('Farvande', 383.9042053222656),\n",
       " ('Alperne', 385.578369140625),\n",
       " ('Vestsiden', 387.0447082519531),\n",
       " ('Egn', 387.77471923828125),\n",
       " ('Middelhavet', 388.04644775390625),\n",
       " ('Høi', 388.64324951171875),\n",
       " ('Østsiden', 390.2239990234375),\n",
       " ('Nordsøen', 390.6659240722656),\n",
       " ('Sundet', 391.2004699707031),\n",
       " ('Pyrenæerne', 391.4026184082031),\n",
       " ('Forbjerg', 392.1592102050781),\n",
       " ('Klipper', 393.12152099609375),\n",
       " ('Zone', 393.15582275390625),\n",
       " ('Fjorden', 394.169189453125),\n",
       " ('Bugten', 394.84320068359375),\n",
       " ('Sydsiden', 396.7088623046875),\n",
       " ('Skandse', 400.42315673828125)]"
      ]
     },
     "execution_count": 52,
     "metadata": {},
     "output_type": "execute_result"
    }
   ],
   "source": [
    "%%time\n",
    "similar(gcon, 'Kyst',60)"
   ]
  },
  {
   "cell_type": "code",
   "execution_count": null,
   "id": "d814b5bb-5508-405e-a94d-cc2d27c06a8c",
   "metadata": {},
   "outputs": [],
   "source": []
  }
 ],
 "metadata": {
  "kernelspec": {
   "display_name": "Python 3 (ipykernel)",
   "language": "python",
   "name": "python3"
  },
  "language_info": {
   "codemirror_mode": {
    "name": "ipython",
    "version": 3
   },
   "file_extension": ".py",
   "mimetype": "text/x-python",
   "name": "python",
   "nbconvert_exporter": "python",
   "pygments_lexer": "ipython3",
   "version": "3.11.5"
  }
 },
 "nbformat": 4,
 "nbformat_minor": 5
}
