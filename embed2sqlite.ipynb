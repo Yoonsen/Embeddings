{
 "cells": [
  {
   "cell_type": "markdown",
   "id": "d0ea3166-6cf2-4d05-b688-42a3dfbd9f96",
   "metadata": {},
   "source": [
    "# Convert embeddings to sqlite"
   ]
  },
  {
   "cell_type": "code",
   "execution_count": 1,
   "id": "8bc2dc58-72ed-445b-b64f-f0dd0133ed25",
   "metadata": {},
   "outputs": [],
   "source": [
    "from gensim.models import KeyedVectors\n",
    "from gensim import models\n",
    "from IPython.display import Markdown\n",
    "import pandas as pd\n",
    "import os\n",
    "import sqlite3"
   ]
  },
  {
   "cell_type": "code",
   "execution_count": 157,
   "id": "18778e83-56a1-4a5b-b6d1-d32deda5d635",
   "metadata": {
    "tags": []
   },
   "outputs": [],
   "source": [
    "m = KeyedVectors.load('appfolder/models/digibok_1800-1900.kv')"
   ]
  },
  {
   "cell_type": "code",
   "execution_count": 160,
   "id": "2fac5882-a6aa-47fb-ad00-3da6ceaff528",
   "metadata": {
    "tags": []
   },
   "outputs": [
    {
     "name": "stdout",
     "output_type": "stream",
     "text": [
      ", [-2.0834186e+00  2.3842187e+00 -1.1359137e+00  9.5092350e-01\n",
      "  4.8095706e-01 -3.4627026e-01 -1.9660989e+00 -2.6519382e+00\n",
      " -5.8226073e-01 -2.9285338e+00 -2.8516545e+00 -1.0839516e+00\n",
      " -2.3576317e+00 -3.6351082e+00 -2.5283656e+00  2.6835694e+00\n",
      "  1.7565607e+00  1.5337167e+00 -5.5487948e-03  5.3154498e-01\n",
      "  2.0355337e+00 -1.4429165e+00 -2.7451189e+00  3.5180764e+00\n",
      " -5.5195236e-01  2.6215389e+00  2.6553817e+00  3.5855339e+00\n",
      " -6.7578959e-01  5.3025928e+00  2.2660626e-01  6.8641968e+00\n",
      " -2.6604261e+00 -2.7738145e-01  1.4060694e-01 -3.2409801e+00\n",
      "  1.6026145e+00 -1.4253813e+00 -4.2587938e+00 -1.8931340e+00\n",
      " -3.0287647e+00 -1.2368945e+00 -7.7408171e-01 -3.3569664e-01\n",
      "  1.6961468e+00 -1.7526623e+00 -3.3612483e+00 -1.5947877e+00\n",
      "  7.3459077e-01 -4.0351087e-03 -8.3057398e-01 -6.5627420e-01\n",
      "  8.2659179e-01  5.8815271e-01 -1.7935346e-01  1.2279378e+00\n",
      "  6.4008367e-01 -3.3737750e+00 -1.9322957e+00 -2.1493955e+00\n",
      " -4.1261654e+00 -5.2205038e-01 -2.4300472e-01 -1.0062777e+00\n",
      "  3.8657901e-01  3.1596339e-01  4.1901703e+00 -1.6915377e+00\n",
      " -3.2232997e+00 -7.8774965e-01 -2.3189063e+00 -1.8561544e+00\n",
      " -2.6359992e+00  4.3661466e-01  4.5577970e+00  3.7957566e+00\n",
      " -4.4572392e+00 -2.6642399e+00 -1.4808198e+00 -2.4541900e+00\n",
      " -2.2295165e+00 -1.9003099e+00  2.7000897e+00  2.3096480e+00\n",
      "  5.7931185e-01 -3.2064176e+00 -1.8997103e+00 -8.7528443e-01\n",
      " -9.9207002e-01  3.9805660e+00  1.2084038e+00 -6.2756956e-01\n",
      " -1.4839555e+00 -3.6540151e-01  8.4486544e-01  1.3108660e+00\n",
      "  2.3355019e+00  4.3405938e+00  6.3756615e-01 -2.1250792e+00] 100\n"
     ]
    }
   ],
   "source": [
    "for w in list(m.key_to_index.keys())[:1]:\n",
    "    print(w, m[w], len(m[w]))\n",
    "    "
   ]
  },
  {
   "cell_type": "code",
   "execution_count": 158,
   "id": "dc857534-326c-4cef-9e9d-7ae56934e7f2",
   "metadata": {
    "tags": []
   },
   "outputs": [],
   "source": [
    "db = \"vss_1800.db\""
   ]
  },
  {
   "cell_type": "code",
   "execution_count": 84,
   "id": "2093e859-547f-45e3-affb-52478f1c1c96",
   "metadata": {
    "tags": []
   },
   "outputs": [],
   "source": [
    "with sqlite3.connect(db) as con:\n",
    "    con.execute(\"drop table words\")"
   ]
  },
  {
   "cell_type": "code",
   "execution_count": 159,
   "id": "42e98af4-46db-4592-b5b4-5a2cdea2a60a",
   "metadata": {
    "tags": []
   },
   "outputs": [],
   "source": [
    "with sqlite3.connect(db) as con:\n",
    "    con.execute(\"create table words (word string, embedding blob)\")"
   ]
  },
  {
   "cell_type": "code",
   "execution_count": null,
   "id": "960097e2-ee5d-4e2d-9406-20cc369612fa",
   "metadata": {},
   "outputs": [],
   "source": []
  },
  {
   "cell_type": "code",
   "execution_count": 55,
   "id": "edc1fce0-51ec-4fe6-879a-11fef3e5c4b2",
   "metadata": {
    "tags": []
   },
   "outputs": [],
   "source": [
    "import sqlite_vss"
   ]
  },
  {
   "cell_type": "code",
   "execution_count": 161,
   "id": "bd647dd2-5bc9-4d45-86a7-ae924fa62f49",
   "metadata": {
    "tags": []
   },
   "outputs": [],
   "source": [
    "with sqlite3.connect(db) as con:\n",
    "    con.enable_load_extension(True)\n",
    "    sqlite_vss.load(con)\n",
    "    con.execute(\"\"\"create virtual table word_vectors using vss0(\n",
    "          vector(100),\n",
    ");\"\"\")"
   ]
  },
  {
   "cell_type": "code",
   "execution_count": 162,
   "id": "3dfd23ca-31fe-4ff0-8158-959ea15adbc2",
   "metadata": {
    "tags": []
   },
   "outputs": [
    {
     "name": "stdout",
     "output_type": "stream",
     "text": [
      "CPU times: user 10.2 s, sys: 1.7 s, total: 11.9 s\n",
      "Wall time: 12 s\n"
     ]
    }
   ],
   "source": [
    "%%time\n",
    "with sqlite3.connect(db) as con:\n",
    "    for w in list(m.key_to_index.keys()): \n",
    "        cur = con.cursor()\n",
    "        cur.execute(\"\"\"insert into words values (?, ?)\"\"\", (w, m[w].tobytes()))"
   ]
  },
  {
   "cell_type": "code",
   "execution_count": 77,
   "id": "fb624e64-0d8c-4f3b-87c2-f8c6c3cb79da",
   "metadata": {
    "tags": []
   },
   "outputs": [],
   "source": [
    "with sqlite3.connect('test_vss.db') as con:\n",
    "    cur = con.cursor()\n",
    "    a = cur.execute(\"\"\"select * from words order by random() limit 10\"\"\").fetchall()"
   ]
  },
  {
   "cell_type": "code",
   "execution_count": 44,
   "id": "5c7d0173-735e-4ff6-a50f-334f414319f2",
   "metadata": {
    "tags": []
   },
   "outputs": [],
   "source": [
    "import numpy"
   ]
  },
  {
   "cell_type": "code",
   "execution_count": null,
   "id": "9d8df4e6-2fa4-4ee5-8ce3-6bc3372382a7",
   "metadata": {
    "tags": []
   },
   "outputs": [],
   "source": [
    "%%time\n",
    "with sqlite3.connect(db) as con:\n",
    "    con.enable_load_extension(True)\n",
    "    sqlite_vss.load(con)\n",
    "    con.execute(\"\"\"insert into word_vectors (rowid, vector) select rowid, embedding from words\"\"\")"
   ]
  },
  {
   "cell_type": "code",
   "execution_count": 142,
   "id": "c2f517a7-973f-4983-b62b-f223215acdf5",
   "metadata": {
    "tags": []
   },
   "outputs": [],
   "source": [
    "def nearest(word, limit=20):\n",
    "    with sqlite3.connect('test_vss1.db') as con:\n",
    "        con.enable_load_extension(True)\n",
    "        sqlite_vss.load(con)\n",
    "        try:\n",
    "            res = con.execute(\"\"\"\n",
    "            select b.word, a.distance from \n",
    "                (\n",
    "                select rowid, distance from word_vectors\n",
    "                where \n",
    "                    vss_search(\n",
    "                        vector, \n",
    "                        (select vector from word_vectors where rowid = (select rowid from words where word = ?)))\n",
    "                    limit ?\n",
    "                ) as a, \n",
    "                words as b \n",
    "                where \n",
    "                    a.rowid = b.rowid\"\"\", (word, limit)).fetchall()\n",
    "        except:\n",
    "            res = []\n",
    "    return res"
   ]
  },
  {
   "cell_type": "code",
   "execution_count": 150,
   "id": "9f6ae11c-0469-4771-aac7-f6e62fb69159",
   "metadata": {
    "tags": []
   },
   "outputs": [],
   "source": [
    "gcon = sqlite3.connect('test_vss1.db')\n",
    "gcon.enable_load_extension(True)\n",
    "sqlite_vss.load(gcon)"
   ]
  },
  {
   "cell_type": "code",
   "execution_count": 151,
   "id": "fd6438a0-a6f6-4416-befa-7a8679e095f6",
   "metadata": {
    "tags": []
   },
   "outputs": [],
   "source": [
    "def similar(con, word, limit = 20):\n",
    "    try:\n",
    "        res = con.execute(\"\"\"\n",
    "        select b.word, a.distance from \n",
    "            (\n",
    "            select rowid, distance from word_vectors\n",
    "            where \n",
    "                vss_search(\n",
    "                    vector, \n",
    "                    (select vector from word_vectors where rowid = (select rowid from words where word = ?)))\n",
    "                limit ?\n",
    "            ) as a, \n",
    "            words as b \n",
    "            where \n",
    "                a.rowid = b.rowid\"\"\", (word, limit)).fetchall()\n",
    "    except:\n",
    "        res = []\n",
    "    return res"
   ]
  },
  {
   "cell_type": "code",
   "execution_count": 156,
   "id": "b11738a9-e0a4-4caa-88f8-799fe9fbdd60",
   "metadata": {
    "tags": []
   },
   "outputs": [
    {
     "name": "stdout",
     "output_type": "stream",
     "text": [
      "CPU times: user 37.3 ms, sys: 9.78 ms, total: 47 ms\n",
      "Wall time: 30.4 ms\n"
     ]
    },
    {
     "data": {
      "text/plain": [
       "[('pølsene', 0.0),\n",
       " ('bollene', 8.992934226989746),\n",
       " ('nøttene', 10.1032075881958),\n",
       " ('rekene', 10.536861419677734),\n",
       " ('brødskivene', 10.69122314453125),\n",
       " ('pannekakene', 10.780485153198242),\n",
       " ('pærene', 11.154183387756348),\n",
       " ('ertene', 13.058422088623047),\n",
       " ('baconet', 13.067215919494629),\n",
       " ('skinken', 13.101675033569336),\n",
       " ('jordbærene', 13.543998718261719),\n",
       " ('linsene', 13.64631462097168),\n",
       " ('flesket', 13.87731647491455),\n",
       " ('steken', 13.976338386535645),\n",
       " ('plommene', 14.128902435302734),\n",
       " ('syltetøyet', 14.311455726623535),\n",
       " ('fiskestykkene', 14.739439010620117),\n",
       " ('blåskjellene', 14.739874839782715),\n",
       " ('gulrøttene', 14.96258544921875),\n",
       " ('lefsene', 15.438885688781738)]"
      ]
     },
     "execution_count": 156,
     "metadata": {},
     "output_type": "execute_result"
    }
   ],
   "source": [
    "%%time\n",
    "similar(gcon, \"pølsene\")"
   ]
  },
  {
   "cell_type": "code",
   "execution_count": 149,
   "id": "04fb4317-2d8d-4d9a-9c98-9854ad331153",
   "metadata": {
    "tags": []
   },
   "outputs": [
    {
     "name": "stdout",
     "output_type": "stream",
     "text": [
      "CPU times: user 304 ms, sys: 249 ms, total: 554 ms\n",
      "Wall time: 533 ms\n"
     ]
    },
    {
     "data": {
      "text/plain": [
       "[('ost', 0.0),\n",
       " ('skinke', 40.014244079589844),\n",
       " ('pasta', 45.5068473815918),\n",
       " ('kylling', 46.75252151489258),\n",
       " ('hvitvin', 48.86185836791992),\n",
       " ('potet', 49.592281341552734),\n",
       " ('bacon', 50.66096496582031),\n",
       " ('biff', 50.88382339477539),\n",
       " ('flatbrød', 52.060977935791016),\n",
       " ('ris', 52.51927947998047),\n",
       " ('sjokolade', 52.922088623046875),\n",
       " ('asparges', 53.113929748535156),\n",
       " ('sirup', 53.4311637878418),\n",
       " ('majones', 53.66023254394531),\n",
       " ('syltetøy', 53.889442443847656),\n",
       " ('kjøttdeig', 54.02251434326172),\n",
       " ('rødvin', 54.688636779785156),\n",
       " ('flesk', 54.697288513183594),\n",
       " ('suppe', 56.01039505004883),\n",
       " ('tomat', 56.31900405883789),\n",
       " ('saus', 57.1614990234375),\n",
       " ('yoghurt', 57.59467315673828),\n",
       " ('kål', 57.68960952758789),\n",
       " ('sennep', 58.03306579589844),\n",
       " ('kaviar', 58.97991180419922),\n",
       " ('parmesan', 59.10783767700195),\n",
       " ('pølse', 59.138397216796875),\n",
       " ('bringebær', 59.27168655395508),\n",
       " ('jordbær', 59.43475341796875),\n",
       " ('agurk', 60.73179626464844)]"
      ]
     },
     "execution_count": 149,
     "metadata": {},
     "output_type": "execute_result"
    }
   ],
   "source": [
    "%%time\n",
    "nearest('ost',30)"
   ]
  },
  {
   "cell_type": "code",
   "execution_count": null,
   "id": "d814b5bb-5508-405e-a94d-cc2d27c06a8c",
   "metadata": {},
   "outputs": [],
   "source": []
  },
  {
   "cell_type": "code",
   "execution_count": 120,
   "id": "5d5630f2-a0f4-4643-a689-25a53a7b90f3",
   "metadata": {
    "tags": []
   },
   "outputs": [],
   "source": [
    "with sqlite3.connect('test_vss1.db') as con:\n",
    "    con.enable_load_extension(True)\n",
    "    sqlite_vss.load(con)\n",
    "    res = con.execute(\"\"\"select * from word_vectors limit 2\"\"\").fetchall()\n",
    "    "
   ]
  },
  {
   "cell_type": "code",
   "execution_count": 121,
   "id": "caafbfd4-513e-4389-b8d4-c3168d3a4aff",
   "metadata": {
    "tags": []
   },
   "outputs": [
    {
     "data": {
      "text/plain": [
       "[(b'\\r\\xe9\\x9c?&\\xa3\\x13\\xc0o\\xa6\\t\\xc0(\\xea\\x10@Rp\\x8c\\xbf\\x12\\x86P?\\xf9\\x97e?^\\xe74\\xbf\\xbd\\xb1\\xfc\\xbe)k\\x84\\xbf\\xff\\xf2\\xfc>\\x86t\\x19@^\\xde\\x9f\\xbf\\x06\\x06\\xfb\\xbf\\xa2\\x05\\n\\xc0{\\x97\\xbb\\xbed\\xbc\\x90\\xbe\\r\\xfa\\xc0?\\xfa\\xe9\\xed=q\\xef\\xad\\xbf\\x0c\\x08\\x06=\\xfa\\x17\\x80=>3s?\\xf0\\tE\\xbf\\xca5\\xda?.r\\xb6\\xbf\\xbf)a?\\xb5\\x13u@z\\x80\\xa1\\xbfS\\xc4\\x10?\\xa9E\\x93?\\xf6x\\xce>\\xbf\\xd6a\\xbf(\\\\\\x19\\xc0\\xd7\\x88\\x8c\\xbf\\xec\\xb89\\xbf\\xdd\\xa3\\xc9\\xbf4u\\x91\\xbf\\xd0\\xbc\\x0c\\xc0\\x0e\\xcd\\x8f?\\x99\\xd4G?\\x02\\x8b\\x18\\xc0{6g\\xbf\\xa3X\\x03\\xc0U\\xc9\\x01>\\xfd\\x80\\xef\\xbe1C\\xab=\\xc2\\x82\\x08@\\xeb\\x9b\\x18@e\\xc8C>',),\n",
       " (b'Tv\\xbb\\xbf\\xed\\xb0/\\xc0u\\xe9\\xb3\\xbf\"\\xce\\x00?\\xc0i\\xfa\\xbf\\xfb\\x95\\x7f\\xc0k\\xf6\\xf2\\xbf\\xe4\\x0b\\x0c?/\\x81\\x00\\xbf\\xe1\\x98\\x0c?\\x0f\\xf9:\\xbfG\\x93\\x94?o\\xc38\\xc0I|~\\xc0d\\x13i\\xbff\\x9b\\xb3\\xbf\\x97\\xcb\\xb4\\xbf\\xd5F\\x8f?s\\x03\\x1b?\\'ee\\xc0\\xebn\\x0e\\xbfz\\x90\\x8c\\xbf\\x85\\xdb\\xc7\\xbeq}I?=\\xf8\\xe8?\\x08\\xd4j\\xc0C\\x1b?@\\x07O|@\\x0fg\\x89=\\x98\\xdd\\xc0\\xbf\\x99\\r\\xe5?\\x1ew\\x80?\\xfbf\\t\\xc0E\\x88\\x11?\\xc3\\x17c\\xbf\\xef\\x1cE\\xc0\\x08\\xf0\\xeb\\xbf\\x94x\\x8c\\xbe\\xd2\\xc1\\xf3\\xbf\\xebq\\x86@-E\\r\\xc0\\x16\\xdb\\x19\\xc0\\xf4\\xd4\\xf8\\xbe\\n\\xf3\\x18\\xc0x\\x07\\xb5?\\xac\\xe6\\xe9?h\\x80\\xc8>\\x9f\\xb8\\xbe?\\xe5\\xbd!@\\xdeW\\xcf?',)]"
      ]
     },
     "execution_count": 121,
     "metadata": {},
     "output_type": "execute_result"
    }
   ],
   "source": [
    "res"
   ]
  },
  {
   "cell_type": "code",
   "execution_count": 92,
   "id": "239370a9-b00a-4b2f-a129-a6ec48100e46",
   "metadata": {
    "tags": []
   },
   "outputs": [],
   "source": [
    "with sqlite3.connect('test_vss0.db') as con:\n",
    "    res = con.execute(\"select * from sqlite_master\").fetchall()"
   ]
  },
  {
   "cell_type": "code",
   "execution_count": 93,
   "id": "d754155b-aac2-4b98-a388-042bfd7ea06e",
   "metadata": {
    "tags": []
   },
   "outputs": [
    {
     "data": {
      "text/plain": [
       "[('table',\n",
       "  'words',\n",
       "  'words',\n",
       "  2,\n",
       "  'CREATE TABLE words (word string, embedding blob)'),\n",
       " ('table',\n",
       "  'word_vectors',\n",
       "  'word_vectors',\n",
       "  0,\n",
       "  'CREATE VIRTUAL TABLE word_vectors using vss0(\\n        word string,\\n          vector(200),\\n)')]"
      ]
     },
     "execution_count": 93,
     "metadata": {},
     "output_type": "execute_result"
    }
   ],
   "source": [
    "res"
   ]
  },
  {
   "cell_type": "code",
   "execution_count": 80,
   "id": "d2542348-1c37-45c6-ae60-32341c2ae383",
   "metadata": {
    "tags": []
   },
   "outputs": [
    {
     "data": {
      "text/plain": [
       "200"
      ]
     },
     "execution_count": 80,
     "metadata": {},
     "output_type": "execute_result"
    }
   ],
   "source": [
    "len(a[0][1])"
   ]
  }
 ],
 "metadata": {
  "kernelspec": {
   "display_name": "Python 3 (ipykernel)",
   "language": "python",
   "name": "python3"
  },
  "language_info": {
   "codemirror_mode": {
    "name": "ipython",
    "version": 3
   },
   "file_extension": ".py",
   "mimetype": "text/x-python",
   "name": "python",
   "nbconvert_exporter": "python",
   "pygments_lexer": "ipython3",
   "version": "3.11.5"
  }
 },
 "nbformat": 4,
 "nbformat_minor": 5
}
